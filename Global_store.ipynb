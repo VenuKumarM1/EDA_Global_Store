{
 "cells": [
  {
   "cell_type": "code",
   "execution_count": null,
   "metadata": {},
   "outputs": [],
   "source": [
    "import pandas as pd\n",
    "import numpy as np\n",
    "import matplotlib.pyplot as plt\n",
    "import seaborn as sns\n",
    "\n",
    "#to ignore warnings\n",
    "import warnings\n",
    "warnings.filterwarnings('ignore')"
   ]
  },
  {
   "cell_type": "code",
   "execution_count": null,
   "metadata": {},
   "outputs": [],
   "source": [
    "# pip install openpyxl"
   ]
  },
  {
   "cell_type": "code",
   "execution_count": null,
   "metadata": {},
   "outputs": [],
   "source": [
    "orders = pd.read_excel(r\"C:\\Users\\User\\Documents\\Python Scripts\\EDA_Global Stores\\global_superstore_2016.xlsx\", sheet_name='Orders')"
   ]
  },
  {
   "cell_type": "code",
   "execution_count": null,
   "metadata": {},
   "outputs": [],
   "source": [
    "returns = pd.read_excel(r\"C:\\Users\\User\\Documents\\Python Scripts\\EDA_Global Stores\\global_superstore_2016.xlsx\", sheet_name='Returns')"
   ]
  },
  {
   "cell_type": "code",
   "execution_count": null,
   "metadata": {},
   "outputs": [],
   "source": [
    "people = pd.read_excel(r\"C:\\Users\\User\\Documents\\Python Scripts\\EDA_Global Stores\\global_superstore_2016.xlsx\", sheet_name='People')"
   ]
  },
  {
   "cell_type": "code",
   "execution_count": null,
   "metadata": {},
   "outputs": [],
   "source": [
    "orders.shape"
   ]
  },
  {
   "cell_type": "code",
   "execution_count": null,
   "metadata": {},
   "outputs": [],
   "source": [
    "returns.shape"
   ]
  },
  {
   "cell_type": "code",
   "execution_count": null,
   "metadata": {},
   "outputs": [],
   "source": [
    "people.shape"
   ]
  },
  {
   "cell_type": "code",
   "execution_count": null,
   "metadata": {},
   "outputs": [],
   "source": [
    "orders.iloc[:6, 12:]"
   ]
  },
  {
   "cell_type": "code",
   "execution_count": null,
   "metadata": {},
   "outputs": [],
   "source": [
    "orders[orders['Order ID'].str.contains(\"IN-2014-JR162107-41675\")].head(1)"
   ]
  },
  {
   "cell_type": "code",
   "execution_count": null,
   "metadata": {},
   "outputs": [],
   "source": [
    "returns.head()"
   ]
  },
  {
   "cell_type": "code",
   "execution_count": null,
   "metadata": {},
   "outputs": [],
   "source": [
    "people.head()"
   ]
  },
  {
   "cell_type": "markdown",
   "metadata": {},
   "source": [
    "Merge 2 tables, order and return based on columns order ID and Region"
   ]
  },
  {
   "cell_type": "code",
   "execution_count": null,
   "metadata": {},
   "outputs": [],
   "source": [
    "import pandas as pd\n",
    "order_return_merge= pd.merge(orders, returns, on=['Order ID', 'Region'], how='left')"
   ]
  },
  {
   "cell_type": "code",
   "execution_count": null,
   "metadata": {},
   "outputs": [],
   "source": [
    "order_return_merge.shape"
   ]
  },
  {
   "cell_type": "code",
   "execution_count": null,
   "metadata": {},
   "outputs": [],
   "source": [
    "order_return_merge.head()"
   ]
  },
  {
   "cell_type": "code",
   "execution_count": null,
   "metadata": {},
   "outputs": [],
   "source": [
    "order_return_merge[[\"Sales\",\"Quantity\",\"Discount\",\"Profit\",\"Shipping Cost\"]].head()"
   ]
  },
  {
   "cell_type": "code",
   "execution_count": null,
   "metadata": {},
   "outputs": [],
   "source": [
    "order_return_merge.columns"
   ]
  },
  {
   "cell_type": "code",
   "execution_count": null,
   "metadata": {},
   "outputs": [],
   "source": [
    "order_return_merge.info()"
   ]
  },
  {
   "cell_type": "code",
   "execution_count": null,
   "metadata": {},
   "outputs": [],
   "source": [
    "order_return_merge.isnull().sum()"
   ]
  },
  {
   "cell_type": "code",
   "execution_count": null,
   "metadata": {},
   "outputs": [],
   "source": [
    "order_return_merge.duplicated().sum()"
   ]
  },
  {
   "cell_type": "markdown",
   "metadata": {},
   "source": [
    "Data reduction"
   ]
  },
  {
   "cell_type": "code",
   "execution_count": null,
   "metadata": {},
   "outputs": [],
   "source": [
    "order_return_merge.drop([\"Row ID\", \"Order ID\", \"Ship Date\", \"Customer ID\", \"Postal Code\", \"Product Name\"], axis =1, inplace=True)"
   ]
  },
  {
   "cell_type": "code",
   "execution_count": null,
   "metadata": {},
   "outputs": [],
   "source": [
    "order_return_merge['Returned'].fillna(\"No\", inplace=True)"
   ]
  },
  {
   "cell_type": "code",
   "execution_count": null,
   "metadata": {},
   "outputs": [],
   "source": [
    "order_return_merge.isnull().sum()"
   ]
  },
  {
   "cell_type": "code",
   "execution_count": null,
   "metadata": {},
   "outputs": [],
   "source": [
    "df = order_return_merge"
   ]
  },
  {
   "cell_type": "markdown",
   "metadata": {},
   "source": [
    "Feature Engineering"
   ]
  },
  {
   "cell_type": "code",
   "execution_count": null,
   "metadata": {},
   "outputs": [],
   "source": [
    "df['year'] = df['Order Date'].dt.year\n",
    "df['month'] = df['Order Date'].dt.month"
   ]
  },
  {
   "cell_type": "code",
   "execution_count": null,
   "metadata": {},
   "outputs": [],
   "source": [
    "# Total revenue generated from sales\n",
    "df['total sales'] = df['Sales'] * df['Quantity']\n",
    "\n",
    "# Total revenue generated from sales\n",
    "df['total profit'] = df['Profit'] * df['Quantity']\n",
    "\n",
    "# Total cost incured for shipping\n",
    "df['total cost'] = df['Shipping Cost'] * df['Quantity']"
   ]
  },
  {
   "cell_type": "code",
   "execution_count": 35,
   "metadata": {},
   "outputs": [
    {
     "name": "stdout",
     "output_type": "stream",
     "text": [
      "<class 'pandas.core.frame.DataFrame'>\n",
      "RangeIndex: 51290 entries, 0 to 51289\n",
      "Data columns (total 24 columns):\n",
      " #   Column          Non-Null Count  Dtype         \n",
      "---  ------          --------------  -----         \n",
      " 0   Order Date      51290 non-null  datetime64[ns]\n",
      " 1   Ship Mode       51290 non-null  object        \n",
      " 2   Customer Name   51290 non-null  object        \n",
      " 3   Segment         51290 non-null  object        \n",
      " 4   City            51290 non-null  object        \n",
      " 5   State           51290 non-null  object        \n",
      " 6   Country         51290 non-null  object        \n",
      " 7   Region          51290 non-null  object        \n",
      " 8   Market          51290 non-null  object        \n",
      " 9   Product ID      51290 non-null  object        \n",
      " 10  Category        51290 non-null  object        \n",
      " 11  Sub-Category    51290 non-null  object        \n",
      " 12  Sales           51290 non-null  float64       \n",
      " 13  Quantity        51290 non-null  int64         \n",
      " 14  Discount        51290 non-null  float64       \n",
      " 15  Profit          51290 non-null  float64       \n",
      " 16  Shipping Cost   51290 non-null  float64       \n",
      " 17  Order Priority  51290 non-null  object        \n",
      " 18  Returned        51290 non-null  object        \n",
      " 19  year            51290 non-null  int32         \n",
      " 20  month           51290 non-null  int32         \n",
      " 21  total sales     51290 non-null  float64       \n",
      " 22  total profit    51290 non-null  float64       \n",
      " 23  total cost      51290 non-null  float64       \n",
      "dtypes: datetime64[ns](1), float64(7), int32(2), int64(1), object(13)\n",
      "memory usage: 9.0+ MB\n"
     ]
    }
   ],
   "source": [
    "df.info()"
   ]
  },
  {
   "cell_type": "code",
   "execution_count": null,
   "metadata": {},
   "outputs": [],
   "source": [
    "df.describe().T"
   ]
  },
  {
   "cell_type": "markdown",
   "metadata": {},
   "source": [
    "Data Visualisation "
   ]
  },
  {
   "cell_type": "code",
   "execution_count": null,
   "metadata": {},
   "outputs": [],
   "source": [
    "cat_column = df.select_dtypes(include=['object']).columns.to_list()\n",
    "num_column = df.select_dtypes(np.number).columns.to_list()"
   ]
  },
  {
   "cell_type": "code",
   "execution_count": null,
   "metadata": {},
   "outputs": [],
   "source": [
    "for col in num_column:\n",
    "    plt.subplot(1,1,1)\n",
    "    df[col].hist(bins=20, alpha=0.5, grid=False)\n",
    "    plt.ylabel(\"frequency\")\n",
    "    plt.title(col)\n",
    "    plt.show()"
   ]
  },
  {
   "cell_type": "code",
   "execution_count": null,
   "metadata": {},
   "outputs": [],
   "source": [
    "import seaborn as sns\n",
    "for col in cat_column:\n",
    "    plt.figure()\n",
    "    sns.countplot(x=col, data=df, order=df[col].value_counts().index, palette='Set2')\n",
    "    plt.xticks(rotation=90)\n",
    "    plt.title(col) \n",
    "    plt.show()\n"
   ]
  },
  {
   "cell_type": "code",
   "execution_count": 39,
   "metadata": {},
   "outputs": [
    {
     "name": "stdout",
     "output_type": "stream",
     "text": [
      "Net profit is: 1467457.2912799998\n"
     ]
    }
   ],
   "source": [
    "print(f\"Net profit is: {df[\"Profit\"].sum()}\")"
   ]
  },
  {
   "cell_type": "code",
   "execution_count": 40,
   "metadata": {},
   "outputs": [
    {
     "name": "stdout",
     "output_type": "stream",
     "text": [
      "Net sales is: 12642501.90988\n"
     ]
    }
   ],
   "source": [
    "print(f\"Net sales is: {df[\"Sales\"].sum()}\")"
   ]
  },
  {
   "cell_type": "code",
   "execution_count": 41,
   "metadata": {},
   "outputs": [
    {
     "name": "stdout",
     "output_type": "stream",
     "text": [
      "Gross sales is: 61821272.47008\n"
     ]
    }
   ],
   "source": [
    "print(f\"Gross sales is: {df[\"total sales\"].sum()}\")"
   ]
  },
  {
   "cell_type": "code",
   "execution_count": 42,
   "metadata": {},
   "outputs": [
    {
     "name": "stdout",
     "output_type": "stream",
     "text": [
      "Gross profit is: 7228245.59588\n"
     ]
    }
   ],
   "source": [
    "print(f\"Gross profit is: {df[\"total profit\"].sum()}\")"
   ]
  },
  {
   "cell_type": "code",
   "execution_count": 46,
   "metadata": {},
   "outputs": [
    {
     "name": "stdout",
     "output_type": "stream",
     "text": [
      "Profit Margin: 11.69 %\n"
     ]
    }
   ],
   "source": [
    "print(f\"Profit Margin: {(df[\"total profit\"].sum() / df[\"total sales\"].sum() *100).round(2)} %\")"
   ]
  },
  {
   "cell_type": "code",
   "execution_count": 50,
   "metadata": {},
   "outputs": [
    {
     "name": "stdout",
     "output_type": "stream",
     "text": [
      "Total Cost: 58995729.48\n"
     ]
    }
   ],
   "source": [
    "print(f\"Total Cost: {(df[\"total sales\"].sum() - df[\"Profit\"].sum()-  df[\"Shipping Cost\"].sum()).round(2)}\")"
   ]
  },
  {
   "cell_type": "code",
   "execution_count": 51,
   "metadata": {},
   "outputs": [
    {
     "name": "stdout",
     "output_type": "stream",
     "text": [
      "Net Profit: 109371.59\n"
     ]
    }
   ],
   "source": [
    "print(f\"Net Profit: {(df[\"Profit\"].sum() - df[\"Shipping Cost\"].sum()).round(2)}\")"
   ]
  },
  {
   "cell_type": "code",
   "execution_count": 54,
   "metadata": {},
   "outputs": [
    {
     "data": {
      "text/html": [
       "<div>\n",
       "<style scoped>\n",
       "    .dataframe tbody tr th:only-of-type {\n",
       "        vertical-align: middle;\n",
       "    }\n",
       "\n",
       "    .dataframe tbody tr th {\n",
       "        vertical-align: top;\n",
       "    }\n",
       "\n",
       "    .dataframe thead th {\n",
       "        text-align: right;\n",
       "    }\n",
       "</style>\n",
       "<table border=\"1\" class=\"dataframe\">\n",
       "  <thead>\n",
       "    <tr style=\"text-align: right;\">\n",
       "      <th></th>\n",
       "      <th>year</th>\n",
       "      <th>Sales</th>\n",
       "      <th>Profit</th>\n",
       "      <th>Quantity</th>\n",
       "    </tr>\n",
       "  </thead>\n",
       "  <tbody>\n",
       "    <tr>\n",
       "      <th>0</th>\n",
       "      <td>2012</td>\n",
       "      <td>2.259451e+06</td>\n",
       "      <td>248940.81154</td>\n",
       "      <td>31443</td>\n",
       "    </tr>\n",
       "    <tr>\n",
       "      <th>1</th>\n",
       "      <td>2013</td>\n",
       "      <td>2.677439e+06</td>\n",
       "      <td>307415.27910</td>\n",
       "      <td>38111</td>\n",
       "    </tr>\n",
       "    <tr>\n",
       "      <th>2</th>\n",
       "      <td>2014</td>\n",
       "      <td>3.405746e+06</td>\n",
       "      <td>406935.23018</td>\n",
       "      <td>48136</td>\n",
       "    </tr>\n",
       "    <tr>\n",
       "      <th>3</th>\n",
       "      <td>2015</td>\n",
       "      <td>4.299866e+06</td>\n",
       "      <td>504165.97046</td>\n",
       "      <td>60622</td>\n",
       "    </tr>\n",
       "  </tbody>\n",
       "</table>\n",
       "</div>"
      ],
      "text/plain": [
       "   year         Sales        Profit  Quantity\n",
       "0  2012  2.259451e+06  248940.81154     31443\n",
       "1  2013  2.677439e+06  307415.27910     38111\n",
       "2  2014  3.405746e+06  406935.23018     48136\n",
       "3  2015  4.299866e+06  504165.97046     60622"
      ]
     },
     "execution_count": 54,
     "metadata": {},
     "output_type": "execute_result"
    }
   ],
   "source": [
    "# Group data by month and calculate sum.\n",
    "year_analysis = df.groupby(\"year\").agg({\"Sales\": \"sum\",\n",
    "                                        \"Profit\": \"sum\",\n",
    "                                        \"Quantity\": \"sum\"}).reset_index()\n",
    "year_analysis"
   ]
  },
  {
   "cell_type": "code",
   "execution_count": 66,
   "metadata": {},
   "outputs": [
    {
     "data": {
      "image/png": "[encoded data removed]",
      "text/plain": [
       "<Figure size 1200x600 with 3 Axes>"
      ]
     },
     "metadata": {},
     "output_type": "display_data"
    }
   ],
   "source": [
    "plt.figure(figsize=(12,6))\n",
    "#sales plot\n",
    "plt.subplot(2, 2, 1)\n",
    "plt.bar(year_analysis['year'], year_analysis['Sales'], color=sns.color_palette('Set2'))\n",
    "plt.xticks([2012,2013,2014,2015])\n",
    "plt.title('Total sales by year')\n",
    "plt.xlabel('Year')\n",
    "plt.ylabel('Total Sales')\n",
    "\n",
    "plt.subplot(2, 2, 2)\n",
    "plt.bar(year_analysis['year'], year_analysis['Profit'], color=sns.color_palette('Set1'))\n",
    "plt.xticks([2012,2013,2014,2015])\n",
    "plt.title('Total Year by Profit')\n",
    "plt.xlabel('Year')\n",
    "plt.ylabel('Total Profit')\n",
    "\n",
    "plt.subplot(2, 2, 3)\n",
    "plt.bar(year_analysis['year'], year_analysis['Quantity'], color=sns.color_palette('Set1'))\n",
    "plt.xticks([2012,2013,2014,2015])\n",
    "plt.title('Total Year by Quantity')\n",
    "plt.xlabel('Year')\n",
    "plt.ylabel('Total Quantity')\n",
    "\n",
    "plt.tight_layout()\n",
    "plt.show()"
   ]
  },
  {
   "cell_type": "code",
   "execution_count": 77,
   "metadata": {},
   "outputs": [],
   "source": [
    "pd.options.display.float_format = '{:,.2f}'.format"
   ]
  },
  {
   "cell_type": "code",
   "execution_count": 78,
   "metadata": {},
   "outputs": [
    {
     "data": {
      "text/html": [
       "<div>\n",
       "<style scoped>\n",
       "    .dataframe tbody tr th:only-of-type {\n",
       "        vertical-align: middle;\n",
       "    }\n",
       "\n",
       "    .dataframe tbody tr th {\n",
       "        vertical-align: top;\n",
       "    }\n",
       "\n",
       "    .dataframe thead th {\n",
       "        text-align: right;\n",
       "    }\n",
       "</style>\n",
       "<table border=\"1\" class=\"dataframe\">\n",
       "  <thead>\n",
       "    <tr style=\"text-align: right;\">\n",
       "      <th></th>\n",
       "      <th>month</th>\n",
       "      <th>Sales</th>\n",
       "      <th>Profit</th>\n",
       "      <th>Quantity</th>\n",
       "    </tr>\n",
       "  </thead>\n",
       "  <tbody>\n",
       "    <tr>\n",
       "      <th>0</th>\n",
       "      <td>1</td>\n",
       "      <td>676,788.93</td>\n",
       "      <td>73,440.46</td>\n",
       "      <td>8872</td>\n",
       "    </tr>\n",
       "    <tr>\n",
       "      <th>1</th>\n",
       "      <td>2</td>\n",
       "      <td>554,649.89</td>\n",
       "      <td>72,932.28</td>\n",
       "      <td>7429</td>\n",
       "    </tr>\n",
       "    <tr>\n",
       "      <th>2</th>\n",
       "      <td>3</td>\n",
       "      <td>760,517.98</td>\n",
       "      <td>91,873.58</td>\n",
       "      <td>10390</td>\n",
       "    </tr>\n",
       "    <tr>\n",
       "      <th>3</th>\n",
       "      <td>4</td>\n",
       "      <td>695,978.41</td>\n",
       "      <td>73,822.42</td>\n",
       "      <td>10466</td>\n",
       "    </tr>\n",
       "    <tr>\n",
       "      <th>4</th>\n",
       "      <td>5</td>\n",
       "      <td>915,492.83</td>\n",
       "      <td>106,970.04</td>\n",
       "      <td>13196</td>\n",
       "    </tr>\n",
       "    <tr>\n",
       "      <th>5</th>\n",
       "      <td>6</td>\n",
       "      <td>1,262,080.92</td>\n",
       "      <td>144,604.77</td>\n",
       "      <td>18009</td>\n",
       "    </tr>\n",
       "    <tr>\n",
       "      <th>6</th>\n",
       "      <td>7</td>\n",
       "      <td>752,306.30</td>\n",
       "      <td>76,525.70</td>\n",
       "      <td>11046</td>\n",
       "    </tr>\n",
       "    <tr>\n",
       "      <th>7</th>\n",
       "      <td>8</td>\n",
       "      <td>1,294,314.96</td>\n",
       "      <td>154,593.44</td>\n",
       "      <td>17596</td>\n",
       "    </tr>\n",
       "    <tr>\n",
       "      <th>8</th>\n",
       "      <td>9</td>\n",
       "      <td>1,431,753.40</td>\n",
       "      <td>169,705.82</td>\n",
       "      <td>20479</td>\n",
       "    </tr>\n",
       "    <tr>\n",
       "      <th>9</th>\n",
       "      <td>10</td>\n",
       "      <td>1,185,227.69</td>\n",
       "      <td>158,903.90</td>\n",
       "      <td>16303</td>\n",
       "    </tr>\n",
       "    <tr>\n",
       "      <th>10</th>\n",
       "      <td>11</td>\n",
       "      <td>1,546,728.16</td>\n",
       "      <td>175,983.19</td>\n",
       "      <td>22379</td>\n",
       "    </tr>\n",
       "    <tr>\n",
       "      <th>11</th>\n",
       "      <td>12</td>\n",
       "      <td>1,566,662.45</td>\n",
       "      <td>168,101.71</td>\n",
       "      <td>22147</td>\n",
       "    </tr>\n",
       "  </tbody>\n",
       "</table>\n",
       "</div>"
      ],
      "text/plain": [
       "    month        Sales     Profit  Quantity\n",
       "0       1   676,788.93  73,440.46      8872\n",
       "1       2   554,649.89  72,932.28      7429\n",
       "2       3   760,517.98  91,873.58     10390\n",
       "3       4   695,978.41  73,822.42     10466\n",
       "4       5   915,492.83 106,970.04     13196\n",
       "5       6 1,262,080.92 144,604.77     18009\n",
       "6       7   752,306.30  76,525.70     11046\n",
       "7       8 1,294,314.96 154,593.44     17596\n",
       "8       9 1,431,753.40 169,705.82     20479\n",
       "9      10 1,185,227.69 158,903.90     16303\n",
       "10     11 1,546,728.16 175,983.19     22379\n",
       "11     12 1,566,662.45 168,101.71     22147"
      ]
     },
     "execution_count": 78,
     "metadata": {},
     "output_type": "execute_result"
    }
   ],
   "source": [
    "# Group data by month and calculate sum.\n",
    "month_analysis = df.groupby(\"month\").agg({\"Sales\": \"sum\",\n",
    "                                        \"Profit\": \"sum\",\n",
    "                                        \"Quantity\": \"sum\"}).reset_index()\n",
    "month_analysis"
   ]
  },
  {
   "cell_type": "code",
   "execution_count": 81,
   "metadata": {},
   "outputs": [
    {
     "data": {
      "image/png": "[encoded data removed]",
      "text/plain": [
       "<Figure size 1200x600 with 3 Axes>"
      ]
     },
     "metadata": {},
     "output_type": "display_data"
    }
   ],
   "source": [
    "plt.figure(figsize=(12,6))\n",
    "#sales plot\n",
    "plt.subplot(2, 2, 1)\n",
    "plt.bar(month_analysis['month'], month_analysis['Sales'], color=sns.color_palette('Set2'))\n",
    "# plt.xticks([2012,2013,2014,2015])\n",
    "plt.title('Total sales by month')\n",
    "plt.xlabel('month')\n",
    "plt.ylabel('Total Sales')\n",
    "\n",
    "plt.subplot(2, 2, 2)\n",
    "plt.bar(month_analysis['month'], month_analysis['Profit'], color=sns.color_palette('Set2'))\n",
    "# plt.xticks([2012,2013,2014,2015])\n",
    "plt.title('Total profit by month')\n",
    "plt.xlabel('profit')\n",
    "plt.ylabel('Total Sales')\n",
    "\n",
    "plt.subplot(2, 2, 3)\n",
    "plt.bar(month_analysis['month'], month_analysis['Quantity'], color=sns.color_palette('Set2'))\n",
    "# plt.xticks([2012,2013,2014,2015])\n",
    "plt.title('Total quantity by month')\n",
    "plt.xlabel('quantity')\n",
    "plt.ylabel('Total Sales')\n",
    "\n",
    "plt.tight_layout()\n",
    "plt.show()"
   ]
  },
  {
   "cell_type": "code",
   "execution_count": null,
   "metadata": {},
   "outputs": [],
   "source": []
  }
 ],
 "metadata": {
  "kernelspec": {
   "display_name": "Python 3",
   "language": "python",
   "name": "python3"
  },
  "language_info": {
   "codemirror_mode": {
    "name": "ipython",
    "version": 3
   },
   "file_extension": ".py",
   "mimetype": "text/x-python",
   "name": "python",
   "nbconvert_exporter": "python",
   "pygments_lexer": "ipython3",
   "version": "3.12.2"
  }
 },
 "nbformat": 4,
 "nbformat_minor": 2
}
